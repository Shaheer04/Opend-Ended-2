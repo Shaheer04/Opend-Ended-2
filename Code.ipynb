{
 "cells": [
  {
   "cell_type": "markdown",
   "metadata": {},
   "source": [
    "### Shaheer Jamal \n",
    "\n",
    "### 22F-BSAI-14"
   ]
  },
  {
   "cell_type": "code",
   "execution_count": 52,
   "metadata": {},
   "outputs": [],
   "source": [
    "# Checking Length\n",
    "def length(s):\n",
    "    return len(s)\n",
    "\n",
    "# Function to check palindrome\n",
    "def check_palindrome(s: str) -> int:\n",
    "    \n",
    "    freq = {}\n",
    "    \n",
    "    # Count the frequency of each letter\n",
    "    for char in s:\n",
    "        if char in freq:\n",
    "            freq[char] += 1\n",
    "        else:\n",
    "            freq[char] = 1\n",
    "    \n",
    "    # Variable to store longest palindrome\n",
    "    length_palindrome = 0\n",
    "    odd_found = False\n",
    "    \n",
    "    # Calculate the length of the longest possible palindrome\n",
    "    for count in freq.values():\n",
    "        if count % 2 == 0:\n",
    "            length_palindrome += count  # Add the entire count if it's even\n",
    "        else:\n",
    "            length_palindrome += count - 1  # Add the largest even part of the count\n",
    "            odd = True  # There is at least one odd frequency\n",
    "    \n",
    "    # If there is at least one odd frequency, we can place one odd character in the center\n",
    "    if odd:\n",
    "        length_palindrome += 1\n",
    "    \n",
    "    return print(f\"Length of the longest palindrome: {length_palindrome}\")\n",
    "\n",
    "\n",
    "\n",
    "def make_palindrome(s):\n",
    "    # Reversing string\n",
    "    reversed_string = reversed(s)\n",
    "    palindrome = \"\"\n",
    "    for char in reversed_string:\n",
    "        palindrome += char\n",
    "    return palindrome"
   ]
  },
  {
   "cell_type": "code",
   "execution_count": 53,
   "metadata": {},
   "outputs": [
    {
     "name": "stdout",
     "output_type": "stream",
     "text": [
      "Length of the longest palindrome: 7\n"
     ]
    },
    {
     "data": {
      "text/plain": [
       "'ddccccba'"
      ]
     },
     "execution_count": 53,
     "metadata": {},
     "output_type": "execute_result"
    }
   ],
   "source": [
    "s = \"abccccdd\"\n",
    "\n",
    "check_palindrome(s)\n",
    "make_palindrome(s)"
   ]
  },
  {
   "cell_type": "code",
   "execution_count": null,
   "metadata": {},
   "outputs": [],
   "source": []
  },
  {
   "cell_type": "code",
   "execution_count": null,
   "metadata": {},
   "outputs": [],
   "source": []
  }
 ],
 "metadata": {
  "kernelspec": {
   "display_name": "Python 3",
   "language": "python",
   "name": "python3"
  },
  "language_info": {
   "codemirror_mode": {
    "name": "ipython",
    "version": 3
   },
   "file_extension": ".py",
   "mimetype": "text/x-python",
   "name": "python",
   "nbconvert_exporter": "python",
   "pygments_lexer": "ipython3",
   "version": "3.11.9"
  }
 },
 "nbformat": 4,
 "nbformat_minor": 2
}
